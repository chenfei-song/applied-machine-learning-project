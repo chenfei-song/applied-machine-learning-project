{
 "cells": [
  {
   "cell_type": "markdown",
   "metadata": {},
   "source": [
    "# AML_S2020_hw2_task1_cs3913"
   ]
  },
  {
   "cell_type": "markdown",
   "metadata": {},
   "source": [
    "## Task 1 Classification on the ‘credit-g’ dataset"
   ]
  },
  {
   "cell_type": "code",
   "execution_count": 1,
   "metadata": {},
   "outputs": [],
   "source": [
    "from sklearn.datasets import fetch_openml\n",
    "import matplotlib.pyplot as plt\n",
    "from sklearn.model_selection import train_test_split\n",
    "from sklearn.compose import make_column_transformer\n",
    "from sklearn.linear_model import LogisticRegression\n",
    "from sklearn.svm import LinearSVC\n",
    "from sklearn.svm import SVC\n",
    "from sklearn.neighbors import KNeighborsClassifier\n",
    "from sklearn.preprocessing import StandardScaler\n",
    "from sklearn.model_selection import GridSearchCV \n",
    "from sklearn.preprocessing import OneHotEncoder\n",
    "from sklearn.pipeline import make_pipeline\n",
    "from sklearn.pipeline import Pipeline\n",
    "from sklearn.model_selection import cross_val_score\n",
    "from sklearn.model_selection import KFold\n",
    "from sklearn.compose import TransformedTargetRegressor\n",
    "from sklearn.linear_model import LinearRegression\n",
    "from sklearn.linear_model import Lasso\n",
    "from sklearn.linear_model import Ridge\n",
    "from sklearn.linear_model import ElasticNet\n",
    "from sklearn.impute import SimpleImputer \n",
    "import seaborn as sns \n",
    "\n",
    "import numpy as np\n",
    "import pandas as pd\n",
    "import warnings\n",
    "warnings.filterwarnings(\"ignore\")"
   ]
  },
  {
   "cell_type": "code",
   "execution_count": 2,
   "metadata": {},
   "outputs": [],
   "source": [
    "credit = fetch_openml('credit-g', as_frame = True)"
   ]
  },
  {
   "cell_type": "code",
   "execution_count": 3,
   "metadata": {},
   "outputs": [],
   "source": [
    "data1 = credit.data"
   ]
  },
  {
   "cell_type": "code",
   "execution_count": 4,
   "metadata": {},
   "outputs": [],
   "source": [
    "target = credit.target"
   ]
  },
  {
   "cell_type": "code",
   "execution_count": 5,
   "metadata": {},
   "outputs": [
    {
     "data": {
      "text/html": [
       "<div>\n",
       "<style scoped>\n",
       "    .dataframe tbody tr th:only-of-type {\n",
       "        vertical-align: middle;\n",
       "    }\n",
       "\n",
       "    .dataframe tbody tr th {\n",
       "        vertical-align: top;\n",
       "    }\n",
       "\n",
       "    .dataframe thead th {\n",
       "        text-align: right;\n",
       "    }\n",
       "</style>\n",
       "<table border=\"1\" class=\"dataframe\">\n",
       "  <thead>\n",
       "    <tr style=\"text-align: right;\">\n",
       "      <th></th>\n",
       "      <th>checking_status</th>\n",
       "      <th>duration</th>\n",
       "      <th>credit_history</th>\n",
       "      <th>purpose</th>\n",
       "      <th>credit_amount</th>\n",
       "      <th>savings_status</th>\n",
       "      <th>employment</th>\n",
       "      <th>installment_commitment</th>\n",
       "      <th>personal_status</th>\n",
       "      <th>other_parties</th>\n",
       "      <th>residence_since</th>\n",
       "      <th>property_magnitude</th>\n",
       "      <th>age</th>\n",
       "      <th>other_payment_plans</th>\n",
       "      <th>housing</th>\n",
       "      <th>existing_credits</th>\n",
       "      <th>job</th>\n",
       "      <th>num_dependents</th>\n",
       "      <th>own_telephone</th>\n",
       "      <th>foreign_worker</th>\n",
       "    </tr>\n",
       "  </thead>\n",
       "  <tbody>\n",
       "    <tr>\n",
       "      <td>0</td>\n",
       "      <td>&lt;0</td>\n",
       "      <td>6.0</td>\n",
       "      <td>critical/other existing credit</td>\n",
       "      <td>radio/tv</td>\n",
       "      <td>1169.0</td>\n",
       "      <td>no known savings</td>\n",
       "      <td>&gt;=7</td>\n",
       "      <td>4.0</td>\n",
       "      <td>male single</td>\n",
       "      <td>none</td>\n",
       "      <td>4.0</td>\n",
       "      <td>real estate</td>\n",
       "      <td>67.0</td>\n",
       "      <td>none</td>\n",
       "      <td>own</td>\n",
       "      <td>2.0</td>\n",
       "      <td>skilled</td>\n",
       "      <td>1.0</td>\n",
       "      <td>yes</td>\n",
       "      <td>yes</td>\n",
       "    </tr>\n",
       "    <tr>\n",
       "      <td>1</td>\n",
       "      <td>0&lt;=X&lt;200</td>\n",
       "      <td>48.0</td>\n",
       "      <td>existing paid</td>\n",
       "      <td>radio/tv</td>\n",
       "      <td>5951.0</td>\n",
       "      <td>&lt;100</td>\n",
       "      <td>1&lt;=X&lt;4</td>\n",
       "      <td>2.0</td>\n",
       "      <td>female div/dep/mar</td>\n",
       "      <td>none</td>\n",
       "      <td>2.0</td>\n",
       "      <td>real estate</td>\n",
       "      <td>22.0</td>\n",
       "      <td>none</td>\n",
       "      <td>own</td>\n",
       "      <td>1.0</td>\n",
       "      <td>skilled</td>\n",
       "      <td>1.0</td>\n",
       "      <td>none</td>\n",
       "      <td>yes</td>\n",
       "    </tr>\n",
       "    <tr>\n",
       "      <td>2</td>\n",
       "      <td>no checking</td>\n",
       "      <td>12.0</td>\n",
       "      <td>critical/other existing credit</td>\n",
       "      <td>education</td>\n",
       "      <td>2096.0</td>\n",
       "      <td>&lt;100</td>\n",
       "      <td>4&lt;=X&lt;7</td>\n",
       "      <td>2.0</td>\n",
       "      <td>male single</td>\n",
       "      <td>none</td>\n",
       "      <td>3.0</td>\n",
       "      <td>real estate</td>\n",
       "      <td>49.0</td>\n",
       "      <td>none</td>\n",
       "      <td>own</td>\n",
       "      <td>1.0</td>\n",
       "      <td>unskilled resident</td>\n",
       "      <td>2.0</td>\n",
       "      <td>none</td>\n",
       "      <td>yes</td>\n",
       "    </tr>\n",
       "    <tr>\n",
       "      <td>3</td>\n",
       "      <td>&lt;0</td>\n",
       "      <td>42.0</td>\n",
       "      <td>existing paid</td>\n",
       "      <td>furniture/equipment</td>\n",
       "      <td>7882.0</td>\n",
       "      <td>&lt;100</td>\n",
       "      <td>4&lt;=X&lt;7</td>\n",
       "      <td>2.0</td>\n",
       "      <td>male single</td>\n",
       "      <td>guarantor</td>\n",
       "      <td>4.0</td>\n",
       "      <td>life insurance</td>\n",
       "      <td>45.0</td>\n",
       "      <td>none</td>\n",
       "      <td>for free</td>\n",
       "      <td>1.0</td>\n",
       "      <td>skilled</td>\n",
       "      <td>2.0</td>\n",
       "      <td>none</td>\n",
       "      <td>yes</td>\n",
       "    </tr>\n",
       "    <tr>\n",
       "      <td>4</td>\n",
       "      <td>&lt;0</td>\n",
       "      <td>24.0</td>\n",
       "      <td>delayed previously</td>\n",
       "      <td>new car</td>\n",
       "      <td>4870.0</td>\n",
       "      <td>&lt;100</td>\n",
       "      <td>1&lt;=X&lt;4</td>\n",
       "      <td>3.0</td>\n",
       "      <td>male single</td>\n",
       "      <td>none</td>\n",
       "      <td>4.0</td>\n",
       "      <td>no known property</td>\n",
       "      <td>53.0</td>\n",
       "      <td>none</td>\n",
       "      <td>for free</td>\n",
       "      <td>2.0</td>\n",
       "      <td>skilled</td>\n",
       "      <td>2.0</td>\n",
       "      <td>none</td>\n",
       "      <td>yes</td>\n",
       "    </tr>\n",
       "  </tbody>\n",
       "</table>\n",
       "</div>"
      ],
      "text/plain": [
       "  checking_status  duration                  credit_history  \\\n",
       "0              <0       6.0  critical/other existing credit   \n",
       "1        0<=X<200      48.0                   existing paid   \n",
       "2     no checking      12.0  critical/other existing credit   \n",
       "3              <0      42.0                   existing paid   \n",
       "4              <0      24.0              delayed previously   \n",
       "\n",
       "               purpose  credit_amount    savings_status employment  \\\n",
       "0             radio/tv         1169.0  no known savings        >=7   \n",
       "1             radio/tv         5951.0              <100     1<=X<4   \n",
       "2            education         2096.0              <100     4<=X<7   \n",
       "3  furniture/equipment         7882.0              <100     4<=X<7   \n",
       "4              new car         4870.0              <100     1<=X<4   \n",
       "\n",
       "   installment_commitment     personal_status other_parties  residence_since  \\\n",
       "0                     4.0         male single          none              4.0   \n",
       "1                     2.0  female div/dep/mar          none              2.0   \n",
       "2                     2.0         male single          none              3.0   \n",
       "3                     2.0         male single     guarantor              4.0   \n",
       "4                     3.0         male single          none              4.0   \n",
       "\n",
       "  property_magnitude   age other_payment_plans   housing  existing_credits  \\\n",
       "0        real estate  67.0                none       own               2.0   \n",
       "1        real estate  22.0                none       own               1.0   \n",
       "2        real estate  49.0                none       own               1.0   \n",
       "3     life insurance  45.0                none  for free               1.0   \n",
       "4  no known property  53.0                none  for free               2.0   \n",
       "\n",
       "                  job  num_dependents own_telephone foreign_worker  \n",
       "0             skilled             1.0           yes            yes  \n",
       "1             skilled             1.0          none            yes  \n",
       "2  unskilled resident             2.0          none            yes  \n",
       "3             skilled             2.0          none            yes  \n",
       "4             skilled             2.0          none            yes  "
      ]
     },
     "execution_count": 5,
     "metadata": {},
     "output_type": "execute_result"
    }
   ],
   "source": [
    "data1.head()"
   ]
  },
  {
   "cell_type": "markdown",
   "metadata": {},
   "source": [
    "### 1.1 Determine which features are continuous and which are categorical."
   ]
  },
  {
   "cell_type": "code",
   "execution_count": 6,
   "metadata": {},
   "outputs": [
    {
     "data": {
      "text/plain": [
       "checking_status           category\n",
       "duration                   float64\n",
       "credit_history            category\n",
       "purpose                   category\n",
       "credit_amount              float64\n",
       "savings_status            category\n",
       "employment                category\n",
       "installment_commitment     float64\n",
       "personal_status           category\n",
       "other_parties             category\n",
       "residence_since            float64\n",
       "property_magnitude        category\n",
       "age                        float64\n",
       "other_payment_plans       category\n",
       "housing                   category\n",
       "existing_credits           float64\n",
       "job                       category\n",
       "num_dependents             float64\n",
       "own_telephone             category\n",
       "foreign_worker            category\n",
       "dtype: object"
      ]
     },
     "execution_count": 6,
     "metadata": {},
     "output_type": "execute_result"
    }
   ],
   "source": [
    "data1.dtypes"
   ]
  },
  {
   "cell_type": "markdown",
   "metadata": {},
   "source": [
    "Continuous features: 'duration', 'credit_amount', 'installment_commitment', 'residence_since', 'age', 'existing_credits', 'num_dependents'\n",
    "\n",
    "categorical features: 'checking_status', 'credit_history', 'purpose', 'savings_status', 'employment', 'personal_status', 'other_parties', 'property_magnitude', 'other_payment_plans', 'housing', 'job', 'own_telephone', 'foreign_worker', 'target'"
   ]
  },
  {
   "cell_type": "markdown",
   "metadata": {},
   "source": [
    "### 1.2 Visualize the univariate distribution of each continuous feature, and the distribution of the target."
   ]
  },
  {
   "cell_type": "code",
   "execution_count": 7,
   "metadata": {},
   "outputs": [
    {
     "data": {
      "image/png": "[encoded data removed]",
      "text/plain": [
       "<Figure size 1296x576 with 8 Axes>"
      ]
     },
     "metadata": {
      "needs_background": "light"
     },
     "output_type": "display_data"
    }
   ],
   "source": [
    "fig, axes = plt.subplots(2, 4, figsize=(18,8))\n",
    "plt.suptitle('Histogram')\n",
    "\n",
    "axes[0,0].hist(data1.duration)\n",
    "axes[0,0].set_xlabel('duration')\n",
    "axes[0,0].set_ylabel('frequency')\n",
    "\n",
    "axes[0,1].hist(data1.credit_amount)\n",
    "axes[0,1].set_xlabel('credit_amount')\n",
    "axes[0,1].set_ylabel('frequency')\n",
    "\n",
    "axes[0,2].hist(data1.installment_commitment)\n",
    "axes[0,2].set_xlabel('installment_commitment')\n",
    "axes[0,2].set_ylabel('frequency')\n",
    "\n",
    "axes[0,3].hist(data1.residence_since)\n",
    "axes[0,3].set_xlabel('residence_since')\n",
    "axes[0,3].set_ylabel('frequency')\n",
    "\n",
    "axes[1,0].hist(data1.age)\n",
    "axes[1,0].set_xlabel('age')\n",
    "axes[1,0].set_ylabel('frequency')\n",
    "\n",
    "axes[1,1].hist(data1.existing_credits)\n",
    "axes[1,1].set_xlabel('existing_credits')\n",
    "axes[1,1].set_ylabel('frequency')\n",
    "\n",
    "axes[1,2].hist(data1.num_dependents)\n",
    "axes[1,2].set_xlabel('num_dependents')\n",
    "axes[1,2].set_ylabel('frequency')\n",
    "\n",
    "axes[1,3].bar(target.value_counts().index,target.value_counts().values)\n",
    "axes[1,3].set_xlabel('class')\n",
    "axes[1,3].set_ylabel('frequency')\n",
    "\n",
    "plt.show()"
   ]
  },
  {
   "cell_type": "markdown",
   "metadata": {},
   "source": [
    "### 1.3 Split data into training and test set. Do not use the test set until a final evaluation in 1.5. Preprocess the data (such as treatment of categorical variables) without using a pipeline and evaluate an initial LogisticRegression model with an training/validation split."
   ]
  },
  {
   "cell_type": "code",
   "execution_count": 8,
   "metadata": {},
   "outputs": [],
   "source": [
    "df_logit = data1.copy()"
   ]
  },
  {
   "cell_type": "code",
   "execution_count": 9,
   "metadata": {},
   "outputs": [],
   "source": [
    "X_train, X_test, y_train, y_test = train_test_split(\n",
    "    df_logit, target, random_state=0)"
   ]
  },
  {
   "cell_type": "code",
   "execution_count": 10,
   "metadata": {},
   "outputs": [],
   "source": [
    "ce = OneHotEncoder().fit(X_train)\n",
    "X_train_encoded = ce.transform(X_train).toarray()"
   ]
  },
  {
   "cell_type": "code",
   "execution_count": 11,
   "metadata": {},
   "outputs": [],
   "source": [
    "X_train, X_valid, y_train, y_valid = train_test_split(\n",
    "    X_train_encoded, y_train, random_state=0)"
   ]
  },
  {
   "cell_type": "code",
   "execution_count": 12,
   "metadata": {},
   "outputs": [
    {
     "name": "stdout",
     "output_type": "stream",
     "text": [
      "Accuracy on the validation set: 0.7872340425531915\n"
     ]
    }
   ],
   "source": [
    "# model evaluation\n",
    "model_logit = LogisticRegression()\n",
    "model_logit.fit(X_train, y_train)\n",
    "print(f\"Accuracy on the validation set: {model_logit.score(X_valid, y_valid)}\")"
   ]
  },
  {
   "cell_type": "markdown",
   "metadata": {},
   "source": [
    "### 1.4 Use ColumnTransformer and pipeline to encode categorical variables (your choice of OneHotEncoder or another one from the categorical_encoder package, or both). Evaluate Logistic Regression, linear support vector machines and nearest neighbors using cross-validation. How different are the results? How does scaling the continuous features with StandardScaler influence the results?"
   ]
  },
  {
   "cell_type": "code",
   "execution_count": 13,
   "metadata": {},
   "outputs": [],
   "source": [
    "df1 = data1.copy()"
   ]
  },
  {
   "cell_type": "code",
   "execution_count": 14,
   "metadata": {},
   "outputs": [],
   "source": [
    "X_train, X_test, y_train, y_test = train_test_split(\n",
    "    df1, target, random_state=0)"
   ]
  },
  {
   "cell_type": "code",
   "execution_count": 15,
   "metadata": {},
   "outputs": [],
   "source": [
    "def nonscale_model_evaluation(model):    \n",
    "    categorical = X_train.dtypes == 'category'\n",
    "    \n",
    "    preprocess_nonscale = make_column_transformer(\n",
    "    (OneHotEncoder(), categorical))\n",
    "    \n",
    "    model_pipe = make_pipeline(preprocess_nonscale, model)\n",
    "    scores = cross_val_score(model_pipe, X_train, y_train)\n",
    "    return np.mean(scores)\n",
    "    "
   ]
  },
  {
   "cell_type": "code",
   "execution_count": 16,
   "metadata": {},
   "outputs": [
    {
     "name": "stdout",
     "output_type": "stream",
     "text": [
      "Accuracy of Logistic Regression:0.7493333333333333\n",
      "Accuracy of Linear SVC:0.7533333333333332\n",
      "Accuracy of Nearest Neighbors:0.692\n"
     ]
    }
   ],
   "source": [
    "# Accuracy of models without scaling\n",
    "print(f'Accuracy of Logistic Regression:{nonscale_model_evaluation(LogisticRegression())}')\n",
    "print(f'Accuracy of Linear SVC:{nonscale_model_evaluation(LinearSVC())}')                                        \n",
    "print(f'Accuracy of Nearest Neighbors:{nonscale_model_evaluation(KNeighborsClassifier(n_neighbors=1))}')"
   ]
  },
  {
   "cell_type": "code",
   "execution_count": 17,
   "metadata": {},
   "outputs": [],
   "source": [
    "def scale_model_evaluation(model):\n",
    "    categorical = X_train.dtypes == 'category'\n",
    "    \n",
    "    preprocess_scale = make_column_transformer(\n",
    "    (StandardScaler(),~categorical),\n",
    "    (OneHotEncoder(), categorical))\n",
    "    \n",
    "    model_pipe = make_pipeline(preprocess_scale, model)\n",
    "    scores = cross_val_score(model_pipe, X_train, y_train)\n",
    "    return np.mean(scores)\n",
    "    "
   ]
  },
  {
   "cell_type": "code",
   "execution_count": 18,
   "metadata": {},
   "outputs": [
    {
     "name": "stdout",
     "output_type": "stream",
     "text": [
      "Accuracy of Logistic Regression:0.7586666666666668\n",
      "Accuracy of Linear SVC:0.7546666666666667\n",
      "Accuracy of Nearest Neighbors:0.692\n"
     ]
    }
   ],
   "source": [
    "# Accuracy of models without scaling\n",
    "print(f'Accuracy of Logistic Regression:{scale_model_evaluation(LogisticRegression())}')\n",
    "print(f'Accuracy of Linear SVC:{scale_model_evaluation(LinearSVC())}')                                        \n",
    "print(f'Accuracy of Nearest Neighbors:{scale_model_evaluation(KNeighborsClassifier(n_neighbors=1))}')"
   ]
  },
  {
   "cell_type": "markdown",
   "metadata": {},
   "source": [
    "1. How different are the results\n",
    "\n",
    "If we don't scale the data, LinearSVC has the best performance with accuracy at around 75.3%; If we scale the data, Logistic Regreession performs best with accuracy at 75.9%. Nearest Neighbor has the lowest accuracy no matter we scale or not."
   ]
  },
  {
   "cell_type": "markdown",
   "metadata": {},
   "source": [
    "2. How does scaling the continuous features with StandardScaler influence the results?\n",
    "\n",
    "For Logistic Regression and LinearSVC models, scaling would help improve the accuracy, and Logistic Regression model has a higher improvement.\n",
    "\n",
    "For Nearest neighbors we do not see much change of model performance, but considering scaling would make more sense for distance-based model, we decide to use scaled data for further parameter tuning this model."
   ]
  },
  {
   "cell_type": "markdown",
   "metadata": {},
   "source": [
    "### 1.5 Tune the parameters using GridSearchCV. Do the results improve? Evaluate only the be model on the test set. Visualize the performance as function of the parameters for all three models."
   ]
  },
  {
   "cell_type": "code",
   "execution_count": 19,
   "metadata": {},
   "outputs": [],
   "source": [
    "# build function for parameter tuning\n",
    "def model_gridsearch(model,param_grid):\n",
    "    categorical = X_train.dtypes == 'category'\n",
    "    \n",
    "    preprocess_scale = make_column_transformer(\n",
    "    (StandardScaler(),~categorical),\n",
    "    (OneHotEncoder(), categorical))\n",
    "    \n",
    "    model_pipe = make_pipeline(preprocess_scale, model)\n",
    "    grid = GridSearchCV(model_pipe, param_grid,return_train_score=True)\n",
    "    grid.fit(X_train, y_train)\n",
    "    return grid.best_params_,grid.best_score_"
   ]
  },
  {
   "cell_type": "code",
   "execution_count": 20,
   "metadata": {},
   "outputs": [
    {
     "name": "stdout",
     "output_type": "stream",
     "text": [
      "Best parameter and best mean cross-validation score for Logistic Regression:\n"
     ]
    },
    {
     "data": {
      "text/plain": [
       "({'logisticregression__C': 750}, 0.7613333333333333)"
      ]
     },
     "execution_count": 20,
     "metadata": {},
     "output_type": "execute_result"
    }
   ],
   "source": [
    "# tuning 'C' for Logistic Regression\n",
    "print('Best parameter and best mean cross-validation score for Logistic Regression:')\n",
    "model_gridsearch( \n",
    "    LogisticRegression(), \n",
    "    param_grid={'logisticregression__C': [0.001, 0.01, 0.1, 1,100,500,750,1000]})"
   ]
  },
  {
   "cell_type": "code",
   "execution_count": 21,
   "metadata": {},
   "outputs": [
    {
     "name": "stdout",
     "output_type": "stream",
     "text": [
      "Best parameter and best mean cross-validation score for LinearSVC:\n"
     ]
    },
    {
     "data": {
      "text/plain": [
       "({'linearsvc__C': 0.1}, 0.7653333333333333)"
      ]
     },
     "execution_count": 21,
     "metadata": {},
     "output_type": "execute_result"
    }
   ],
   "source": [
    "# tuning 'C' for LinearSVC\n",
    "print('Best parameter and best mean cross-validation score for LinearSVC:')\n",
    "model_gridsearch( \n",
    "    LinearSVC(), \n",
    "    param_grid={'linearsvc__C': [0.01, 0.1, 1, 10, 100, 1000]})"
   ]
  },
  {
   "cell_type": "code",
   "execution_count": 22,
   "metadata": {},
   "outputs": [
    {
     "name": "stdout",
     "output_type": "stream",
     "text": [
      "Best parameter and best mean cross-validation score for KNeighborsClassifier:\n"
     ]
    },
    {
     "data": {
      "text/plain": [
       "({'kneighborsclassifier__n_neighbors': 9}, 0.7466666666666666)"
      ]
     },
     "execution_count": 22,
     "metadata": {},
     "output_type": "execute_result"
    }
   ],
   "source": [
    "# tuning 'n_neighbors' for KNeighborsClassifier\n",
    "print('Best parameter and best mean cross-validation score for KNeighborsClassifier:')\n",
    "model_gridsearch( \n",
    "    KNeighborsClassifier(), \n",
    "    param_grid={'kneighborsclassifier__n_neighbors': np.arange(1,11)})"
   ]
  },
  {
   "cell_type": "markdown",
   "metadata": {},
   "source": [
    "1. Do the results improve? \n",
    "    - All three model has an improved result after doing gridsearch"
   ]
  },
  {
   "cell_type": "code",
   "execution_count": 23,
   "metadata": {},
   "outputs": [],
   "source": [
    "# evaluate model on the test set\n",
    "def model_evaluation(model):\n",
    "    categorical = X_train.dtypes == 'category'\n",
    "    \n",
    "    preprocess_scale = make_column_transformer(\n",
    "    (StandardScaler(),~categorical),\n",
    "    (OneHotEncoder(), categorical))\n",
    "    \n",
    "    model_pipe = make_pipeline(preprocess_scale, model)\n",
    "    model_pipe.fit(X_train, y_train)\n",
    "    return model_pipe.score(X_test, y_test)   "
   ]
  },
  {
   "cell_type": "code",
   "execution_count": 24,
   "metadata": {},
   "outputs": [
    {
     "name": "stdout",
     "output_type": "stream",
     "text": [
      "model performance of Logistic Regression on test set:0.732\n",
      "model performance of LinearSVC on test set:0.736\n",
      "model performance of KNeighborsClassifier on test set:0.708\n"
     ]
    }
   ],
   "source": [
    "print(f'model performance of Logistic Regression on test set:{model_evaluation(LogisticRegression(C=750))}')\n",
    "print(f'model performance of LinearSVC on test set:{model_evaluation(LinearSVC(C=0.1))}')\n",
    "print(f'model performance of KNeighborsClassifier on test set:{model_evaluation(KNeighborsClassifier(n_neighbors=9))}')"
   ]
  },
  {
   "cell_type": "markdown",
   "metadata": {},
   "source": [
    "2. Evaluate only the be model on the test set\n",
    "    - The best model according to gridsearch should be LinearSVC with C=0.1, the accuracy on the test set is 73.6%. We evaluate all the three models to double check the results."
   ]
  },
  {
   "cell_type": "code",
   "execution_count": 25,
   "metadata": {},
   "outputs": [],
   "source": [
    "# build function for model performance visualization\n",
    "def performance(model,param_grid,label,title):\n",
    "    categorical = X_train.dtypes == 'category'\n",
    "    \n",
    "    preprocess_scale = make_column_transformer(\n",
    "    (StandardScaler(),~categorical),\n",
    "    (OneHotEncoder(), categorical))\n",
    "    \n",
    "    model_pipe = make_pipeline(preprocess_scale, model)\n",
    "    grid = GridSearchCV(model_pipe, param_grid,return_train_score=True)\n",
    "    grid.fit(X_train, y_train)\n",
    "    results = pd.DataFrame(grid.cv_results_)\n",
    "    \n",
    "    train_scores_mean = results[\"mean_train_score\"]\n",
    "    train_scores_std = results[\"std_train_score\"]\n",
    "    test_scores_mean = results[\"mean_test_score\"]\n",
    "    test_scores_std = results[\"std_test_score\"]\n",
    "    \n",
    "    plt.figure()\n",
    "    plt.title(title)\n",
    "    plt.xlabel(label)\n",
    "    plt.ylabel('Score')\n",
    "    \n",
    "    # plot train scores\n",
    "    plt.semilogx([*param_grid.values()][0], train_scores_mean, label='Mean Train score',\n",
    "             color='navy')\n",
    "    # create a shaded area between [mean - std, mean + std]\n",
    "    plt.gca().fill_between([*param_grid.values()][0],\n",
    "                       train_scores_mean - train_scores_std,\n",
    "                       train_scores_mean + train_scores_std,\n",
    "                       alpha=0.2,\n",
    "                       color='navy')\n",
    "    plt.semilogx([*param_grid.values()][0], test_scores_mean,\n",
    "             label='Mean Test score', color='darkorange')\n",
    "\n",
    "    # create a shaded area between [mean - std, mean + std]\n",
    "    plt.gca().fill_between([*param_grid.values()][0],\n",
    "                       test_scores_mean - test_scores_std,\n",
    "                       test_scores_mean + test_scores_std,\n",
    "                       alpha=0.2,\n",
    "                       color='darkorange')\n",
    "\n",
    "    plt.legend(loc='best')\n",
    "    plt.show()"
   ]
  },
  {
   "cell_type": "code",
   "execution_count": 26,
   "metadata": {},
   "outputs": [
    {
     "data": {
      "image/png": "[encoded data removed]",
      "text/plain": [
       "<Figure size 432x288 with 1 Axes>"
      ]
     },
     "metadata": {
      "needs_background": "light"
     },
     "output_type": "display_data"
    }
   ],
   "source": [
    "# visualize performance of Logistic Regression\n",
    "performance(LogisticRegression(),param_grid={'logisticregression__C': [0.001, 0.01, 0.1, 1,100,500,750,1000]},label='Paramter C',title = 'Performance of Logistic Regression')"
   ]
  },
  {
   "cell_type": "code",
   "execution_count": 27,
   "metadata": {},
   "outputs": [
    {
     "data": {
      "image/png": "[encoded data removed]",
      "text/plain": [
       "<Figure size 432x288 with 1 Axes>"
      ]
     },
     "metadata": {
      "needs_background": "light"
     },
     "output_type": "display_data"
    }
   ],
   "source": [
    "# visualize performance of LinearSVC\n",
    "performance(LinearSVC(),\n",
    "            param_grid={'linearsvc__C': [0.01, 0.1, 1, 10, 100, 1000]},\n",
    "            label='Paramter C',title = 'Performance of LinearSVC')"
   ]
  },
  {
   "cell_type": "code",
   "execution_count": 28,
   "metadata": {},
   "outputs": [
    {
     "data": {
      "image/png": "[encoded data removed]",
      "text/plain": [
       "<Figure size 432x288 with 1 Axes>"
      ]
     },
     "metadata": {
      "needs_background": "light"
     },
     "output_type": "display_data"
    }
   ],
   "source": [
    "# visualize performance of KNeighborsClassifier\n",
    "performance(KNeighborsClassifier(),\n",
    "            param_grid={'kneighborsclassifier__n_neighbors': np.arange(1,11)},\n",
    "            label='Paramter n_neighbors',title = 'Performance of KNeighborsClassifier')"
   ]
  },
  {
   "cell_type": "markdown",
   "metadata": {},
   "source": [
    "### 1.6 Change the cross-validation strategy from ‘stratified k-fold’ to ‘kfold’ with shuffling. Do the parameters that are found change? Do they change if you change the random seed of the shuffling? Or if you change the random state of the split into training and test data?"
   ]
  },
  {
   "cell_type": "code",
   "execution_count": 29,
   "metadata": {},
   "outputs": [],
   "source": [
    "# create a gridsearch function with kfold strategy\n",
    "def gridsearch_kfold(model,param_grid):\n",
    "    \n",
    "    categorical = X_train.dtypes == 'category'\n",
    "    \n",
    "    preprocess_scale = make_column_transformer(\n",
    "    (StandardScaler(),~categorical),\n",
    "    (OneHotEncoder(), categorical))\n",
    "    \n",
    "    kf = KFold(shuffle=True)\n",
    "    \n",
    "    model_pipe = make_pipeline(preprocess_scale, model)\n",
    "    grid = GridSearchCV(model_pipe, param_grid,return_train_score=True,cv = kf)\n",
    "    grid.fit(X_train, y_train)\n",
    "    return grid.best_params_,grid.best_score_"
   ]
  },
  {
   "cell_type": "code",
   "execution_count": 30,
   "metadata": {},
   "outputs": [
    {
     "name": "stdout",
     "output_type": "stream",
     "text": [
      "Best parameter and best mean cross-validation score for Logistic Regression by kfold strategy:\n"
     ]
    },
    {
     "data": {
      "text/plain": [
       "({'logisticregression__C': 1}, 0.756)"
      ]
     },
     "execution_count": 30,
     "metadata": {},
     "output_type": "execute_result"
    }
   ],
   "source": [
    "# tuning 'C' for Logistic Regression\n",
    "print('Best parameter and best mean cross-validation score for Logistic Regression by kfold strategy:')\n",
    "gridsearch_kfold( \n",
    "    LogisticRegression(), \n",
    "    param_grid={'logisticregression__C': [0.001, 0.01, 0.1, 1,100,500,750,1000]})"
   ]
  },
  {
   "cell_type": "code",
   "execution_count": 31,
   "metadata": {},
   "outputs": [
    {
     "name": "stdout",
     "output_type": "stream",
     "text": [
      "Best parameter and best mean cross-validation score for LinearSVC by kfold strategy:\n"
     ]
    },
    {
     "data": {
      "text/plain": [
       "({'linearsvc__C': 0.01}, 0.7586666666666667)"
      ]
     },
     "execution_count": 31,
     "metadata": {},
     "output_type": "execute_result"
    }
   ],
   "source": [
    "# tuning 'C' for LinearSVC\n",
    "print('Best parameter and best mean cross-validation score for LinearSVC by kfold strategy:')\n",
    "gridsearch_kfold( \n",
    "    LinearSVC(), \n",
    "    param_grid={'linearsvc__C': [0.01, 0.1, 1, 10, 100, 1000]})"
   ]
  },
  {
   "cell_type": "code",
   "execution_count": 32,
   "metadata": {},
   "outputs": [
    {
     "name": "stdout",
     "output_type": "stream",
     "text": [
      "Best parameter and best mean cross-validation score for KNeighborsClassifier by kfold strategy:\n"
     ]
    },
    {
     "data": {
      "text/plain": [
       "({'kneighborsclassifier__n_neighbors': 7}, 0.7413333333333333)"
      ]
     },
     "execution_count": 32,
     "metadata": {},
     "output_type": "execute_result"
    }
   ],
   "source": [
    "# tuning 'n_neighbors' for KNeighborsClassifier\n",
    "print('Best parameter and best mean cross-validation score for KNeighborsClassifier by kfold strategy:')\n",
    "gridsearch_kfold( \n",
    "    KNeighborsClassifier(), \n",
    "    param_grid={'kneighborsclassifier__n_neighbors': np.arange(1,11)})"
   ]
  },
  {
   "cell_type": "markdown",
   "metadata": {},
   "source": [
    "1. Do the parameters that are found change?\n",
    "    - The parameters found do change by change cross validation strategy from stratified kfold to kfold."
   ]
  },
  {
   "cell_type": "code",
   "execution_count": 33,
   "metadata": {},
   "outputs": [],
   "source": [
    "# change the random seed of shuffling\n",
    "def gridsearch_kfold_random_shuffle(model,param_grid):\n",
    "    \n",
    "    categorical = X_train.dtypes == 'category'\n",
    "    \n",
    "    preprocess_scale = make_column_transformer(\n",
    "    (StandardScaler(),~categorical),\n",
    "    (OneHotEncoder(), categorical))\n",
    "\n",
    "    for i in range(10):    \n",
    "        kf = KFold(shuffle=True,random_state = i)\n",
    "\n",
    "        model_pipe = make_pipeline(preprocess_scale, model)\n",
    "        grid = GridSearchCV(model_pipe, param_grid,return_train_score=True,cv = kf)\n",
    "        grid.fit(X_train, y_train)\n",
    "        print(f'random state {i}: {grid.best_params_,grid.best_score_}')"
   ]
  },
  {
   "cell_type": "code",
   "execution_count": 34,
   "metadata": {},
   "outputs": [
    {
     "name": "stdout",
     "output_type": "stream",
     "text": [
      "random state 0: ({'logisticregression__C': 0.1}, 0.748)\n",
      "random state 1: ({'logisticregression__C': 1}, 0.752)\n",
      "random state 2: ({'logisticregression__C': 0.1}, 0.756)\n",
      "random state 3: ({'logisticregression__C': 1}, 0.7573333333333334)\n",
      "random state 4: ({'logisticregression__C': 0.1}, 0.76)\n",
      "random state 5: ({'logisticregression__C': 0.1}, 0.756)\n",
      "random state 6: ({'logisticregression__C': 1}, 0.76)\n",
      "random state 7: ({'logisticregression__C': 1}, 0.752)\n",
      "random state 8: ({'logisticregression__C': 0.1}, 0.7493333333333333)\n",
      "random state 9: ({'logisticregression__C': 1}, 0.7573333333333333)\n"
     ]
    }
   ],
   "source": [
    "# tuning 'C' for Logistic Regression with different random state\n",
    "gridsearch_kfold_random_shuffle( \n",
    "    LogisticRegression(), \n",
    "    param_grid={'logisticregression__C': [0.001, 0.01, 0.1, 1,100,500,750,1000]})"
   ]
  },
  {
   "cell_type": "code",
   "execution_count": 35,
   "metadata": {},
   "outputs": [
    {
     "name": "stdout",
     "output_type": "stream",
     "text": [
      "random state 0: ({'linearsvc__C': 0.1}, 0.7533333333333333)\n",
      "random state 1: ({'linearsvc__C': 1}, 0.7493333333333333)\n",
      "random state 2: ({'linearsvc__C': 1}, 0.756)\n",
      "random state 3: ({'linearsvc__C': 0.1}, 0.756)\n",
      "random state 4: ({'linearsvc__C': 0.01}, 0.764)\n",
      "random state 5: ({'linearsvc__C': 0.1}, 0.7586666666666668)\n",
      "random state 6: ({'linearsvc__C': 0.1}, 0.7586666666666667)\n",
      "random state 7: ({'linearsvc__C': 0.1}, 0.7506666666666667)\n",
      "random state 8: ({'linearsvc__C': 0.1}, 0.7506666666666666)\n",
      "random state 9: ({'linearsvc__C': 0.1}, 0.764)\n"
     ]
    }
   ],
   "source": [
    "# tuning 'C' for LinearSVC with different random state\n",
    "gridsearch_kfold_random_shuffle( \n",
    "    LinearSVC(), \n",
    "    param_grid={'linearsvc__C': [0.01, 0.1, 1, 10, 100, 1000]})"
   ]
  },
  {
   "cell_type": "code",
   "execution_count": 36,
   "metadata": {},
   "outputs": [
    {
     "name": "stdout",
     "output_type": "stream",
     "text": [
      "random state 0: ({'kneighborsclassifier__n_neighbors': 9}, 0.7453333333333335)\n",
      "random state 1: ({'kneighborsclassifier__n_neighbors': 9}, 0.7386666666666667)\n",
      "random state 2: ({'kneighborsclassifier__n_neighbors': 9}, 0.7386666666666667)\n",
      "random state 3: ({'kneighborsclassifier__n_neighbors': 5}, 0.7453333333333333)\n",
      "random state 4: ({'kneighborsclassifier__n_neighbors': 7}, 0.728)\n",
      "random state 5: ({'kneighborsclassifier__n_neighbors': 7}, 0.7453333333333333)\n",
      "random state 6: ({'kneighborsclassifier__n_neighbors': 5}, 0.7253333333333334)\n",
      "random state 7: ({'kneighborsclassifier__n_neighbors': 5}, 0.7266666666666668)\n",
      "random state 8: ({'kneighborsclassifier__n_neighbors': 5}, 0.7333333333333334)\n",
      "random state 9: ({'kneighborsclassifier__n_neighbors': 9}, 0.7386666666666667)\n"
     ]
    }
   ],
   "source": [
    "# tuning n_neighbors for KNeighborsClassifier\n",
    "gridsearch_kfold_random_shuffle( \n",
    "    KNeighborsClassifier(), \n",
    "    param_grid={'kneighborsclassifier__n_neighbors': np.arange(1,11)})"
   ]
  },
  {
   "cell_type": "markdown",
   "metadata": {},
   "source": [
    "2. Do they change if you change the random seed of the shuffling?\n",
    "    - The parameters change by using different random states for all three models. Then we set random state constant(the one has the best score in gridsearch), and see how changing random split would affect the parameters. "
   ]
  },
  {
   "cell_type": "code",
   "execution_count": 37,
   "metadata": {},
   "outputs": [],
   "source": [
    "# change random state of train_test_split\n",
    "def gridsearch_kfold_random_splitting(model,param_grid,rs):\n",
    "    for i in range(10): \n",
    "        X_train, X_test, y_train, y_test = train_test_split(\n",
    "        df1, target, random_state=i)\n",
    "\n",
    "        categorical = X_train.dtypes == 'category'\n",
    "\n",
    "        preprocess_scale = make_column_transformer(\n",
    "        (StandardScaler(),~categorical),\n",
    "        (OneHotEncoder(), categorical))\n",
    "\n",
    "        kf = KFold(shuffle=True,random_state = rs)\n",
    "\n",
    "        model_pipe = make_pipeline(preprocess_scale, model)\n",
    "        grid = GridSearchCV(model_pipe, param_grid,return_train_score=True,cv = kf)\n",
    "        grid.fit(X_train, y_train)\n",
    "        print(f'random split {i}: {grid.best_params_,grid.best_score_}')"
   ]
  },
  {
   "cell_type": "code",
   "execution_count": 38,
   "metadata": {},
   "outputs": [
    {
     "name": "stdout",
     "output_type": "stream",
     "text": [
      "random split 0: ({'logisticregression__C': 0.1}, 0.76)\n",
      "random split 1: ({'logisticregression__C': 0.1}, 0.7573333333333333)\n",
      "random split 2: ({'logisticregression__C': 0.1}, 0.7706666666666667)\n",
      "random split 3: ({'logisticregression__C': 1000}, 0.7546666666666667)\n",
      "random split 4: ({'logisticregression__C': 0.1}, 0.7586666666666666)\n",
      "random split 5: ({'logisticregression__C': 0.1}, 0.7573333333333334)\n",
      "random split 6: ({'logisticregression__C': 0.1}, 0.7613333333333333)\n",
      "random split 7: ({'logisticregression__C': 1}, 0.7373333333333334)\n",
      "random split 8: ({'logisticregression__C': 0.1}, 0.752)\n",
      "random split 9: ({'logisticregression__C': 0.1}, 0.7533333333333333)\n"
     ]
    }
   ],
   "source": [
    "# tuning 'C' for Logistic Regression with different split\n",
    "gridsearch_kfold_random_splitting( \n",
    "    LogisticRegression(), \n",
    "    param_grid={'logisticregression__C': [0.001, 0.01, 0.1, 1,100,500,750,1000]}, \n",
    "    rs=4)"
   ]
  },
  {
   "cell_type": "code",
   "execution_count": 39,
   "metadata": {},
   "outputs": [
    {
     "name": "stdout",
     "output_type": "stream",
     "text": [
      "random split 0: ({'linearsvc__C': 0.01}, 0.764)\n",
      "random split 1: ({'linearsvc__C': 0.01}, 0.7546666666666666)\n",
      "random split 2: ({'linearsvc__C': 0.01}, 0.768)\n",
      "random split 3: ({'linearsvc__C': 0.1}, 0.752)\n",
      "random split 4: ({'linearsvc__C': 10}, 0.76)\n",
      "random split 5: ({'linearsvc__C': 0.01}, 0.756)\n",
      "random split 6: ({'linearsvc__C': 0.1}, 0.7613333333333333)\n",
      "random split 7: ({'linearsvc__C': 10}, 0.7373333333333333)\n",
      "random split 8: ({'linearsvc__C': 0.01}, 0.7466666666666667)\n",
      "random split 9: ({'linearsvc__C': 0.01}, 0.7546666666666667)\n"
     ]
    }
   ],
   "source": [
    "# tuning 'C' for LinearSVC with different split\n",
    "gridsearch_kfold_random_splitting( \n",
    "    LinearSVC(), \n",
    "    param_grid={'linearsvc__C': [0.01, 0.1, 1, 10, 100, 1000]},\n",
    "    rs=4)"
   ]
  },
  {
   "cell_type": "code",
   "execution_count": 41,
   "metadata": {},
   "outputs": [
    {
     "name": "stdout",
     "output_type": "stream",
     "text": [
      "random split 0: ({'kneighborsclassifier__n_neighbors': 9}, 0.7453333333333335)\n",
      "random split 1: ({'kneighborsclassifier__n_neighbors': 10}, 0.74)\n",
      "random split 2: ({'kneighborsclassifier__n_neighbors': 5}, 0.7493333333333333)\n",
      "random split 3: ({'kneighborsclassifier__n_neighbors': 5}, 0.7546666666666666)\n",
      "random split 4: ({'kneighborsclassifier__n_neighbors': 7}, 0.7333333333333334)\n",
      "random split 5: ({'kneighborsclassifier__n_neighbors': 5}, 0.752)\n",
      "random split 6: ({'kneighborsclassifier__n_neighbors': 5}, 0.7466666666666667)\n",
      "random split 7: ({'kneighborsclassifier__n_neighbors': 9}, 0.7186666666666668)\n",
      "random split 8: ({'kneighborsclassifier__n_neighbors': 5}, 0.74)\n",
      "random split 9: ({'kneighborsclassifier__n_neighbors': 7}, 0.7306666666666667)\n"
     ]
    }
   ],
   "source": [
    "# tuning 'n_neighbors' for KNeighborsClassifier\n",
    "gridsearch_kfold_random_splitting( \n",
    "    KNeighborsClassifier(), \n",
    "    param_grid={'kneighborsclassifier__n_neighbors': np.arange(1,11)},\n",
    "    rs=0)"
   ]
  },
  {
   "cell_type": "markdown",
   "metadata": {},
   "source": [
    "3. if you change the random state of the split into training and test data?\n",
    "    - Given random seed of shuffling unchanged, parameters would change if we change use different random state of splitting. "
   ]
  },
  {
   "cell_type": "markdown",
   "metadata": {},
   "source": [
    "### 1.7 Visualize the 20 most important coefficients for LogisticRegression and Linear Support Vector Machines using hyper-parameters that performed well in the grid-search."
   ]
  },
  {
   "cell_type": "code",
   "execution_count": 47,
   "metadata": {},
   "outputs": [],
   "source": [
    "# build function for coefficient visualization\n",
    "def coef_visual(model):\n",
    "    X_train, X_test, y_train, y_test = train_test_split(\n",
    "            df1, target, random_state=6)\n",
    "\n",
    "    categorical = X_train.dtypes == 'category'\n",
    "\n",
    "    preprocess_scale = make_column_transformer(\n",
    "    (StandardScaler(),~categorical),\n",
    "    (OneHotEncoder(), categorical))\n",
    "\n",
    "    model_pipe = make_pipeline(preprocess_scale, model)\n",
    "    model_pipe.fit(X_train, y_train)\n",
    "\n",
    "    coef = model_pipe.steps[1][1].coef_\n",
    "    return coef"
   ]
  },
  {
   "cell_type": "code",
   "execution_count": 53,
   "metadata": {},
   "outputs": [],
   "source": [
    "coef_lr = coef_visual(LogisticRegression(C=750))"
   ]
  },
  {
   "cell_type": "code",
   "execution_count": 57,
   "metadata": {},
   "outputs": [
    {
     "data": {
      "image/png": "[encoded data removed]",
      "text/plain": [
       "<Figure size 432x288 with 1 Axes>"
      ]
     },
     "metadata": {
      "needs_background": "light"
     },
     "output_type": "display_data"
    }
   ],
   "source": [
    "# visualize coefficients for Logistic Regression\n",
    "coef = [(index, value) for (index, value) in enumerate(coef_lr[0])]\n",
    "coef = sorted(coef, key = lambda x: abs(x[1]), reverse = True)[:20]\n",
    "x = [c[0] for c in coef]\n",
    "y = [c[1] for c in coef]\n",
    "plt.scatter(x, y, c=np.sign(y), cmap=\"bwr_r\")\n",
    "plt.title('20 most important coefficients for Logistic Regression')\n",
    "plt.xlabel('feature index')\n",
    "plt.ylabel('coefficient')\n",
    "plt.show()"
   ]
  },
  {
   "cell_type": "code",
   "execution_count": 58,
   "metadata": {},
   "outputs": [],
   "source": [
    "coef_svc = coef_visual(LinearSVC(C=0.01))"
   ]
  },
  {
   "cell_type": "code",
   "execution_count": 59,
   "metadata": {},
   "outputs": [
    {
     "data": {
      "image/png": "[encoded data removed]",
      "text/plain": [
       "<Figure size 432x288 with 1 Axes>"
      ]
     },
     "metadata": {
      "needs_background": "light"
     },
     "output_type": "display_data"
    }
   ],
   "source": [
    "# visualize coefficients for LinearSVC\n",
    "coef = [(index, value) for (index, value) in enumerate(coef_svc[0])]\n",
    "coef = sorted(coef, key = lambda x: abs(x[1]), reverse = True)[:20]\n",
    "x = [c[0] for c in coef]\n",
    "y = [c[1] for c in coef]\n",
    "plt.scatter(x, y, c=np.sign(y), cmap=\"bwr_r\")\n",
    "plt.title('20 most important coefficients for LinearSVC')\n",
    "plt.xlabel('feature index')\n",
    "plt.ylabel('coefficient')\n",
    "plt.show()"
   ]
  }
 ],
 "metadata": {
  "kernelspec": {
   "display_name": "Python 3",
   "language": "python",
   "name": "python3"
  },
  "language_info": {
   "codemirror_mode": {
    "name": "ipython",
    "version": 3
   },
   "file_extension": ".py",
   "mimetype": "text/x-python",
   "name": "python",
   "nbconvert_exporter": "python",
   "pygments_lexer": "ipython3",
   "version": "3.7.1"
  }
 },
 "nbformat": 4,
 "nbformat_minor": 2
}
